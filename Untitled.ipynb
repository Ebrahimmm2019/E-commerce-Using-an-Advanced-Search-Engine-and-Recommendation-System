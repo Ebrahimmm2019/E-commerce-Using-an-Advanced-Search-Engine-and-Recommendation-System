{
 "cells": [
  {
   "cell_type": "code",
   "execution_count": 1,
   "id": "0515fbc2",
   "metadata": {},
   "outputs": [],
   "source": [
    "import pandas as pd"
   ]
  },
  {
   "cell_type": "code",
   "execution_count": 2,
   "id": "e4c21764",
   "metadata": {},
   "outputs": [],
   "source": [
    "dataset = pd.read_csv(\"flipkart_com-ecommerce_sample.csv\")"
   ]
  },
  {
   "cell_type": "code",
   "execution_count": 11,
   "id": "1732b3a9",
   "metadata": {},
   "outputs": [
    {
     "name": "stdout",
     "output_type": "stream",
     "text": [
      "<class 'pandas.core.frame.DataFrame'>\n",
      "RangeIndex: 20000 entries, 0 to 19999\n",
      "Data columns (total 15 columns):\n",
      " #   Column                   Non-Null Count  Dtype  \n",
      "---  ------                   --------------  -----  \n",
      " 0   uniq_id                  20000 non-null  object \n",
      " 1   crawl_timestamp          20000 non-null  object \n",
      " 2   product_url              20000 non-null  object \n",
      " 3   product_name             20000 non-null  object \n",
      " 4   product_category_tree    20000 non-null  object \n",
      " 5   pid                      20000 non-null  object \n",
      " 6   retail_price             19922 non-null  float64\n",
      " 7   discounted_price         19922 non-null  float64\n",
      " 8   image                    19997 non-null  object \n",
      " 9   is_FK_Advantage_product  20000 non-null  bool   \n",
      " 10  description              19998 non-null  object \n",
      " 11  product_rating           20000 non-null  object \n",
      " 12  overall_rating           20000 non-null  object \n",
      " 13  brand                    14136 non-null  object \n",
      " 14  product_specifications   19986 non-null  object \n",
      "dtypes: bool(1), float64(2), object(12)\n",
      "memory usage: 2.2+ MB\n"
     ]
    }
   ],
   "source": [
    "dataset.info()"
   ]
  },
  {
   "cell_type": "code",
   "execution_count": 45,
   "id": "7047b6db",
   "metadata": {},
   "outputs": [],
   "source": [
    "#dataset[\"categort\"]=dataset['product_category_tree'].split(\">>\")[0].split('\"')[1].strip()\n",
    "dataset[\"categort\"]=dataset.apply(lambda x : x['product_category_tree'].split(\">>\")[0].split('\"')[1].strip(),axis=1)"
   ]
  },
  {
   "cell_type": "code",
   "execution_count": 53,
   "id": "7dae09f1",
   "metadata": {},
   "outputs": [
    {
     "data": {
      "text/plain": [
       "Clothing                      6198\n",
       "Jewellery                     3531\n",
       "Footwear                      1227\n",
       "Mobiles & Accessories         1099\n",
       "Automotive                    1012\n",
       "Home Decor & Festive Needs     929\n",
       "Beauty and Personal Care       710\n",
       "Home Furnishing                700\n",
       "Kitchen & Dining               647\n",
       "Computers                      578\n",
       "Watches                        530\n",
       "Baby Care                      483\n",
       "Tools & Hardware               391\n",
       "Toys & School Supplies         330\n",
       "Pens & Stationery              313\n",
       "Bags, Wallets & Belts          265\n",
       "Furniture                      180\n",
       "Sports & Fitness               166\n",
       "Cameras & Accessories           82\n",
       "Home Improvement                81\n",
       "Name: categort, dtype: int64"
      ]
     },
     "execution_count": 53,
     "metadata": {},
     "output_type": "execute_result"
    }
   ],
   "source": [
    "dataset['categort'].value_counts().head(20)"
   ]
  },
  {
   "cell_type": "code",
   "execution_count": null,
   "id": "cfddceb4",
   "metadata": {},
   "outputs": [],
   "source": []
  }
 ],
 "metadata": {
  "kernelspec": {
   "display_name": "Python 3 (ipykernel)",
   "language": "python",
   "name": "python3"
  },
  "language_info": {
   "codemirror_mode": {
    "name": "ipython",
    "version": 3
   },
   "file_extension": ".py",
   "mimetype": "text/x-python",
   "name": "python",
   "nbconvert_exporter": "python",
   "pygments_lexer": "ipython3",
   "version": "3.10.1"
  }
 },
 "nbformat": 4,
 "nbformat_minor": 5
}
